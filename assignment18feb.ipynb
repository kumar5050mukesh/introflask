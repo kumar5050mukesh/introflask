{
 "cells": [
  {
   "attachments": {},
   "cell_type": "markdown",
   "metadata": {},
   "source": [
    "Q1. What is an API? Give an example, where an API is used in real life.\n",
    "Q2. Give advantages and disadvantages of using API.\n",
    "Q3. What is a Web API? Differentiate between API and Web API.\n",
    "Q4. Explain REST and SOAP Architecture. Mention shortcomings of SOAP.\n",
    "Q5. Differentiate between REST and SOAP."
   ]
  },
  {
   "attachments": {},
   "cell_type": "markdown",
   "metadata": {},
   "source": [
    "ANS(1) API is the interface between applications. API defines how two different software applications should interact with each other, specifying what types of requests and responses can be made and what data should be sent or received.\n",
    "\n",
    " mobile app to order food from zomato , the app sends a request to the restaurant's API, which retrieves the necessary data  and sends a response back to the app, confirming the order and providing an estimated delivery time. software systems and the mobile app, enabling seamless communication and data transfer.\n",
    "\n",
    "\n",
    "uber and ola and many other companies use google maps that is an api that helps in finding the shortest possible path"
   ]
  },
  {
   "attachments": {},
   "cell_type": "markdown",
   "metadata": {},
   "source": [
    "ANS(2)Advantages of using API\n",
    "\n",
    " build software applications  allowing for faster development and deployment of applications.\n",
    "\n",
    "\n",
    " easier to scale up software applications by allowing other developers and services to integrate with the application and access its functionality and data.\n",
    "\n",
    " enhance the user experience by enabling seamless integration between different applications and services, allowing users to access more comprehensive and personalized services.\n",
    "\n",
    "DISADVANTAGE OF USING API\n",
    "\n",
    "\n",
    " APIs can pose security risks\n",
    " specialized knowledge and skills to use effectively\n",
    " maintenance and support to ensure their continued functionality and performance.\n",
    "\n"
   ]
  },
  {
   "attachments": {},
   "cell_type": "markdown",
   "metadata": {},
   "source": [
    "ANS(3)A Web API  uses the HTTP protocol to allow communication between software applications over the internet. Web APIs typically use standard web technologies such as XML, JSON, and HTTP to exchange data between applications\n",
    "\n",
    " key differences \n",
    "\n",
    " APIs can use a variety of protocols to communicate between software applications, while Web APIs specifically use the HTTP protocol over the internet.\n",
    "\n",
    " APIs can use any transport mechanism to exchange data, while Web APIs typically use standard web technologies such as XML, JSON, and HTTP.\n",
    "\n",
    " APIs can be used on any platform, while Web APIs are specifically designed for use on the web \n",
    "\n",
    "APIs can be used for communication between applications running on the same machine or network, while Web APIs are designed to be accessible over the internet\n",
    "\n",
    "\n",
    "\n",
    "\n",
    "\n"
   ]
  },
  {
   "attachments": {},
   "cell_type": "markdown",
   "metadata": {},
   "source": [
    "ANS(4)REST  and SOAP  are two popular architectures used for building web services.\n",
    "\n",
    "REST architecture is a client-server architecture where the client sends a request to the server, and the server responds with data in a standardized format, such as JSON or XML. REST APIs are based on HTTP and use standard HTTP methods such as GET, POST, PUT, and DELETE to perform operations on the resources. REST APIs are simple, lightweight, and scalable, making them ideal for building web applications that require fast and efficient communication.\n",
    "\n",
    "SOAP architecture, on the other hand, is an XML-based messaging protocol that is used to exchange structured information between web services. SOAP messages are usually sent using HTTP or HTTPS, and they are typically larger and more complex than REST messages. SOAP is often used in enterprise applications where security and reliability are paramount.\n",
    "\n",
    "Shortcomings of SOAP:\n",
    "\n",
    " SOAP is a more complex architecture  slower and more resource-intensive, particularly in high-traffic environments.\n",
    "\n",
    " Due to its complexity, SOAP can be more difficult to scale than REST\n",
    "\n",
    "SOAP is primarily used with Java  which may limit its adoption in other programming languages and platforms.\n",
    "\n",
    " heavily reliant on XML\n",
    "\n",
    "\n",
    "\n",
    "\n",
    "\n",
    "\n",
    "\n"
   ]
  },
  {
   "attachments": {},
   "cell_type": "markdown",
   "metadata": {},
   "source": [
    "ANS(5)REST  and SOAP  are two different architectural styles for building web services\n",
    "\n",
    "REST typically uses lightweight data formats like JSON While soap use xml\n",
    "\n",
    " REST relies on standard HTTP methods (GET, POST, PUT, DELETE)  while SOAP uses a specific XML-based messaging protocol \n",
    "\n",
    " In REST, data is included in the request URL, headers or message body, while in SOAP, the payload is encapsulated within the XML message body.\n",
    "\n",
    " REST is based on a client-server architecture where the client sends a request and the server responds with data, while SOAP is based on a distributed architecture where different components of the system can communicate with each other through the SOAP protocol\n",
    "\n",
    " RESTful web services can take advantage of browser caching, while SOAP web services do not typically support caching.\n",
    "\n",
    " RESTful web services are generally easier to develop, test, and deploy than SOAP services due to their simpler architecture and lightweight data formats.\n",
    "\n",
    "\n",
    "\n",
    "\n",
    "\n"
   ]
  },
  {
   "cell_type": "markdown",
   "metadata": {},
   "source": []
  }
 ],
 "metadata": {
  "language_info": {
   "name": "python"
  },
  "orig_nbformat": 4
 },
 "nbformat": 4,
 "nbformat_minor": 2
}
